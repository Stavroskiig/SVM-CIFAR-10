{
  "nbformat": 4,
  "nbformat_minor": 0,
  "metadata": {
    "colab": {
      "provenance": [],
      "collapsed_sections": [
        "vYAAmkRDm50Q"
      ],
      "toc_visible": true,
      "authorship_tag": "ABX9TyO4p0jtK+fkt92P2PQZXbdh",
      "include_colab_link": true
    },
    "kernelspec": {
      "name": "python3",
      "display_name": "Python 3"
    },
    "language_info": {
      "name": "python"
    }
  },
  "cells": [
    {
      "cell_type": "markdown",
      "metadata": {
        "id": "view-in-github",
        "colab_type": "text"
      },
      "source": [
        "<a href=\"https://colab.research.google.com/github/Stavroskiig/SVM-CIFAR-10/blob/main/NN_2nd_assignment.ipynb\" target=\"_parent\"><img src=\"https://colab.research.google.com/assets/colab-badge.svg\" alt=\"Open In Colab\"/></a>"
      ]
    },
    {
      "cell_type": "markdown",
      "source": [
        "# **Νευρωνικά Δίκτυα - Βαθιά Μάθηση**\n",
        "\n",
        "2η Υποχρεωτική Εργασία\n",
        "\n",
        "\n",
        "---\n",
        "* **Στόχος**:\n",
        "Ζητούμενο της εργασίας είναι να γραφεί πρόγραμμα σε οποιαδήποτε γλώσσα προγραμματισμού το οποίο να υλοποιεί ένα **Support Vector Machine**. Το SVM αυτό θα εκπαιδευτεί για να επιλύει το πρόβλημα του διαχωρισμού 2 κλάσεων που υπάρχουν στο **CIFAR-10**.\n",
        "\n",
        "* **Γλώσσα**:\n",
        "Επιλέγω να εργαστώ σε Python χρησιμοποιώντας την βιβλιοθήκη `PyTorch` για την ανάπτυξη των νευρωνικών μοντέλων, η οποία είναι αρκετά δημοφιλής στην ερευνητική και εκπαιδευτική κοινότητα.\n",
        "\n",
        "* **Βάση Δεδομένων**:\n",
        "Για την εκπαίδευση και την κατηγοριοποίηση αποφάσισα να χρησιμοποιήσω την βάση δεδομένων CIFAR-10 που υπάρχει στην παρακάτω διεύθυνση:\n",
        "https://www.cs.toronto.edu/~kriz/cifar.html\n",
        "\n",
        "\n",
        "---\n",
        "\n"
      ],
      "metadata": {
        "id": "Sd09eB0vjsa9"
      }
    },
    {
      "cell_type": "markdown",
      "source": [
        "# Προεπεξεργασία του CIFAR-10"
      ],
      "metadata": {
        "id": "wnOfvaMQg5Hq"
      }
    },
    {
      "cell_type": "markdown",
      "source": [
        "Παίρνω το dataset από την keras. Βεβαίως απαιτείται πρώτα να εισάγω την TensorFLow.\n",
        "\n"
      ],
      "metadata": {
        "id": "x0Go6PtujJl1"
      }
    },
    {
      "cell_type": "code",
      "source": [
        "import tensorflow as tf\n",
        "\n",
        "(x_train, y_train), (x_test, y_test) = tf.keras.datasets.cifar10.load_data()"
      ],
      "metadata": {
        "id": "wwZF9lz7BjsG",
        "colab": {
          "base_uri": "https://localhost:8080/"
        },
        "outputId": "d15cd911-78bd-4bf8-d22d-601bc133082b"
      },
      "execution_count": 1,
      "outputs": [
        {
          "output_type": "stream",
          "name": "stdout",
          "text": [
            "Downloading data from https://www.cs.toronto.edu/~kriz/cifar-10-python.tar.gz\n",
            "170498071/170498071 [==============================] - 3s 0us/step\n"
          ]
        }
      ]
    },
    {
      "cell_type": "markdown",
      "source": [
        "Αυτό μου επιστρέφει:\n",
        "* **x_train**: uint8 NumPy πίνακας δεδομένων εικόνας με shapes (50000, 32, 32, 3), που περιέχουν τα δεδομένα εκπαίδευσης (train). Οι τιμές pixel κυμαίνονται από 0 έως 255.\n",
        "\n",
        "* **y_train**: uint8 NumPy πίνακας ετικετών (labels) (ακέραιοι του εύρους 0-9) με shape (50000, 1) για τα δεδομένα εκπαίδευσης (train).\n",
        "\n",
        "* **x_test**: uint8 NumPy πίνακας δεδομένων εικόνας με shapes (10000, 32, 32, 3), που περιέχουν τα δεδομένα δοκιμής (test). Οι τιμές pixel κυμαίνονται από 0 έως 255.\n",
        "\n",
        "* **y_test**: uint8 NumPy πίνακας ετικετών (ακέραιοι στο εύρος 0-9) με shapes (10000, 1) για τα δεδομένα δοκιμής (test)."
      ],
      "metadata": {
        "id": "yfW7BCGPENGY"
      }
    },
    {
      "cell_type": "markdown",
      "source": [
        "Θα δω τα shapes των συνόλων. Τα `x` σύνολα περιλαμβάνουν τις εικόνες, ενώ τα `y` τις ετικέτες."
      ],
      "metadata": {
        "id": "3eDfiUfnISsB"
      }
    },
    {
      "cell_type": "code",
      "source": [
        "print(\"x_train:\", x_train.shape, \"y_train:\", y_train.shape)\n",
        "print(\"x_test:\", x_test.shape, \"y_test:\", y_test.shape)"
      ],
      "metadata": {
        "colab": {
          "base_uri": "https://localhost:8080/"
        },
        "id": "xrulDExPIXxj",
        "outputId": "2b7f3616-3655-4664-c789-c6e8ed35845a"
      },
      "execution_count": 2,
      "outputs": [
        {
          "output_type": "stream",
          "name": "stdout",
          "text": [
            "x_train: (50000, 32, 32, 3) y_train: (50000, 1)\n",
            "x_test: (10000, 32, 32, 3) y_test: (10000, 1)\n"
          ]
        }
      ]
    },
    {
      "cell_type": "markdown",
      "source": [
        "* Τα `x_train` και `x_test` έχουν το shape: (πλήθος εικόνων, ύψος, πλάτος, πλήθος καναλιών).\n",
        "* Τα `y_train` και `y_test` είναι 2D πίνακες με shape: (πλήθος εικόνων, 1)"
      ],
      "metadata": {
        "id": "aLFjfnh6JxaS"
      }
    },
    {
      "cell_type": "markdown",
      "source": [
        "Τώρα θέλω να διατηρήσω μόνο δύο κλάσεις από το σύνολο δεδομένων CIFAR-10. Για αυτό θα φιλτράρω τα δεδομένα με βάση τις κλάσεις που θέλετε να κρατήσω. Επιλέγω τα αεροπλάνα (index 0) και τα πλοία (index 8)."
      ],
      "metadata": {
        "id": "6i_GKyWr17MS"
      }
    },
    {
      "cell_type": "code",
      "source": [
        "chosen_classes = [0, 8]"
      ],
      "metadata": {
        "id": "CHgLLPwU2VRR"
      },
      "execution_count": 5,
      "outputs": []
    },
    {
      "cell_type": "markdown",
      "source": [
        "Ορίζω την συνάρτηση φιλτραρίσματος, η οποία παίρνει ως παραμέτρους ένα σύνολο x και τις κλάσεις που έχω επιλέξει. Το tf.equal επιστρέφει έναν boolean τένσορα με την τιμή True όπου η κλάση του παραδείγματος ταιριάζει με τις επιλεγμένες κλάσεις, ενώ False στις υπόλοιπες."
      ],
      "metadata": {
        "id": "JRbO7oL52qBS"
      }
    },
    {
      "cell_type": "code",
      "source": [
        "import numpy as np\n",
        "\n",
        "def filter_dataset(x, y, chosen_classes):\n",
        "    y = y.flatten()\n",
        "    train_mask = np.isin(y, chosen_classes)\n",
        "    x_filtered = x[train_mask]\n",
        "    y_filtered = y[train_mask]\n",
        "    return x_filtered, y_filtered"
      ],
      "metadata": {
        "id": "-1IQxWUJ2oPn"
      },
      "execution_count": 6,
      "outputs": []
    },
    {
      "cell_type": "code",
      "source": [
        "x_train_filtered, y_train_filtered = filter_dataset(x_train, y_train, chosen_classes)\n",
        "x_test_filtered, y_test_filtered = filter_dataset(x_test, y_test, chosen_classes)"
      ],
      "metadata": {
        "id": "jsYWk2DW4RQz"
      },
      "execution_count": 7,
      "outputs": []
    },
    {
      "cell_type": "code",
      "source": [
        "print(x_train.shape, x_train_filtered.shape)\n",
        "print(y_train.shape, y_train_filtered.shape)\n",
        "\n",
        "print(x_test.shape, x_test_filtered.shape)\n",
        "print(y_test.shape, y_test_filtered.shape)"
      ],
      "metadata": {
        "colab": {
          "base_uri": "https://localhost:8080/"
        },
        "id": "UL9OEcc352l5",
        "outputId": "15cbc86c-85c9-4fb3-8ccf-e0a15a22a976"
      },
      "execution_count": 8,
      "outputs": [
        {
          "output_type": "stream",
          "name": "stdout",
          "text": [
            "(50000, 32, 32, 3) (10000, 32, 32, 3)\n",
            "(50000, 1) (10000,)\n",
            "(10000, 32, 32, 3) (2000, 32, 32, 3)\n",
            "(10000, 1) (2000,)\n"
          ]
        }
      ]
    },
    {
      "cell_type": "markdown",
      "source": [
        "Μετατρέπω τα σύνολα σε `float32`."
      ],
      "metadata": {
        "id": "uwvASeg252z7"
      }
    },
    {
      "cell_type": "code",
      "source": [
        "x_train_filtered, x_test_filtered = np.array(x_train_filtered, dtype=np.float32), np.array(x_test_filtered, dtype=np.float32)"
      ],
      "metadata": {
        "id": "If0_wETU5zce"
      },
      "execution_count": 9,
      "outputs": []
    },
    {
      "cell_type": "markdown",
      "source": [
        "Θα κάνω flatten τις εικόνες από 3D σε διανύσματα 1D."
      ],
      "metadata": {
        "id": "ljzF5X5zH4q7"
      }
    },
    {
      "cell_type": "code",
      "source": [
        "number_features = 3072\n",
        "\n",
        "x_train_filtered = x_train_filtered.reshape([-1, number_features])\n",
        "x_test_filtered = x_test_filtered.reshape([-1, number_features])\n",
        "\n",
        "print(\"x_train:\", x_train_filtered.shape, \"x_test:\", x_test_filtered.shape)"
      ],
      "metadata": {
        "colab": {
          "base_uri": "https://localhost:8080/"
        },
        "id": "YViRmC4BHzdR",
        "outputId": "84e8c794-5d49-4e14-ca72-2776a6f70204"
      },
      "execution_count": 10,
      "outputs": [
        {
          "output_type": "stream",
          "name": "stdout",
          "text": [
            "x_train: (10000, 3072) x_test: (2000, 3072)\n"
          ]
        }
      ]
    },
    {
      "cell_type": "markdown",
      "source": [
        "Θα τις κανονικοποιήσω στο εύρος [0,1]."
      ],
      "metadata": {
        "id": "ZtL4eBCpICUx"
      }
    },
    {
      "cell_type": "code",
      "source": [
        "x_train_filtered = x_train_filtered/255.0\n",
        "x_test_filtered = x_test_filtered/255.0"
      ],
      "metadata": {
        "id": "FNkRTDbRIItK"
      },
      "execution_count": 11,
      "outputs": []
    },
    {
      "cell_type": "markdown",
      "source": [
        "Κρατώ τον αριθμό των κλάσεων και των υπερκλάσεων για το μέλλον."
      ],
      "metadata": {
        "id": "WfRSc-MpJJsT"
      }
    },
    {
      "cell_type": "code",
      "source": [
        "number_classes = 2\n",
        "number_features = 3072"
      ],
      "metadata": {
        "id": "dAM9Sy20JOuY"
      },
      "execution_count": 12,
      "outputs": []
    },
    {
      "cell_type": "code",
      "source": [
        "import time\n",
        "from sklearn.decomposition import PCA\n",
        "\n",
        "start = time.time()\n",
        "\n",
        "pca = PCA(n_components=0.9).fit(x_train_filtered)\n",
        "x_train_pca = pca.transform(x_train_filtered)\n",
        "x_test_pca = pca.transform(x_test_filtered)\n",
        "\n",
        "end = time.time()\n",
        "print(\"PCA elapsed time: {} seconds\\n\".format(end - start))\n",
        "print(\"Extracted {} features from the original {}.\".format(x_train_pca.shape[1], x_train_filtered.shape[1]))\n",
        "print(\"Cumulative explained variation for {} principal components: {:.2%}\".format(x_train_pca.shape[1], np.sum(pca.explained_variance_ratio_)))"
      ],
      "metadata": {
        "colab": {
          "base_uri": "https://localhost:8080/"
        },
        "id": "VsF0AyaGCPPn",
        "outputId": "41d48ec5-dc2f-44b6-e411-0d9a581d13f0"
      },
      "execution_count": 13,
      "outputs": [
        {
          "output_type": "stream",
          "name": "stdout",
          "text": [
            "PCA elapsed time: 25.327983140945435 seconds\n",
            "\n",
            "Extracted 76 features from the original 3072.\n",
            "Cumulative explained variation for 76 principal components: 90.07%\n"
          ]
        }
      ]
    },
    {
      "cell_type": "markdown",
      "source": [
        "Κρατώντας μόλις 76 features από τα 3072, δηλαδή το 2.47%, καταφέρνω να κρατήσω περισσότερο από το 90% της πληροφορίας."
      ],
      "metadata": {
        "id": "S3O4XsBBFNv_"
      }
    },
    {
      "cell_type": "markdown",
      "source": [
        "# k-NN Models"
      ],
      "metadata": {
        "id": "CeBUiGq9MytZ"
      }
    },
    {
      "cell_type": "markdown",
      "source": [
        "Εισάγω από την κατάλληλη βιβλιοθήκη (`sklearn`) τον κατηγοριοποιητή πλησιέστερου γείτονα."
      ],
      "metadata": {
        "id": "vlSarepxNLoF"
      }
    },
    {
      "cell_type": "code",
      "source": [
        "from sklearn.neighbors import KNeighborsClassifier"
      ],
      "metadata": {
        "id": "oLts_3bZNO55"
      },
      "execution_count": 14,
      "outputs": []
    },
    {
      "cell_type": "markdown",
      "source": [
        "Εισάγω και την βιβλιοθήκη `time` για την χρονομέτρηση της εκπαίδευσης και της αξιολόγησης."
      ],
      "metadata": {
        "id": "Ngc20jHKCikJ"
      }
    },
    {
      "cell_type": "code",
      "source": [
        "import time"
      ],
      "metadata": {
        "id": "mUXL6AAfCsbR"
      },
      "execution_count": 15,
      "outputs": []
    },
    {
      "cell_type": "markdown",
      "source": [
        "Ορίζω τις συναρτήσεις train και test αντίστοιχα."
      ],
      "metadata": {
        "id": "bzWh3bVbCtpo"
      }
    },
    {
      "cell_type": "code",
      "source": [
        "def train_knn_classifier(x_train, y_train, n_neighbors, metric):\n",
        "    knn_classifier = KNeighborsClassifier(n_neighbors=n_neighbors, metric=metric)\n",
        "\n",
        "    start_time = time.time()\n",
        "    knn_classifier.fit(x_train, y_train)\n",
        "    end_time = time.time()\n",
        "\n",
        "    training_time = end_time - start_time\n",
        "    print(f\"Training time: {training_time:.4f}s\\n\")\n",
        "\n",
        "    return knn_classifier"
      ],
      "metadata": {
        "id": "aJOWvGBAB_1i"
      },
      "execution_count": 16,
      "outputs": []
    },
    {
      "cell_type": "code",
      "source": [
        "def test_knn_classifier(knn_classifier, x_test, y_test):\n",
        "    start_time = time.time()\n",
        "    score = knn_classifier.score(x_test, y_test)\n",
        "    end_time = time.time()\n",
        "\n",
        "    testing_time = end_time - start_time\n",
        "    print(f\"Testing time: {testing_time:.4f}s\\n\")\n",
        "\n",
        "    return score"
      ],
      "metadata": {
        "id": "JY-B_670Ccn4"
      },
      "execution_count": 17,
      "outputs": []
    },
    {
      "cell_type": "markdown",
      "source": [
        "* **1-NN Model**"
      ],
      "metadata": {
        "id": "4z26cJZS5Zyz"
      }
    },
    {
      "cell_type": "markdown",
      "source": [
        "Αρχικά φτιάχνω τον κατηγοριοποιητή ενός κοντινού γείτονα με `p=2`, δηλαδή επιλέγοντας την ευκλείδια απόσταση ως υπερπαράμετρο της μετρικής Minkowski.\n",
        "\n",
        "Η απόσταση Minkowski είναι μια γενικευμένη απόσταση σε έναν κανονικοποιημένο διανυσματικό χώρο. Ακολουθεί ο τύπος που την ορίζει. Για c ίσο με 1, ο τύπος δίνει την απόσταση Manhattan. Όταν το c είναι ίσο με 2, δίνει την Euclidean απόσταση."
      ],
      "metadata": {
        "id": "bwbFBu1gNctY"
      }
    },
    {
      "cell_type": "markdown",
      "source": [
        "![mink.png](data:image/png;base64,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)"
      ],
      "metadata": {
        "id": "C_EpWsTH3tn5"
      }
    },
    {
      "cell_type": "markdown",
      "source": [
        "Η ευκλείδια απόσταση σύμφωνα με το σχήμα υπολογίζεται ως εξής. Αφαιρώ το X1 από το X2, τετραγωνίζω το αποτελέσμα, κάνω το ίδιο για τα Y1 και Y2, προσθέτω τα δύο τετράγωνα και στο τέλος τα \"βάζω\" κάτω από τετραγωνική ρίζα."
      ],
      "metadata": {
        "id": "jtxAZDEt58OB"
      }
    },
    {
      "cell_type": "markdown",
      "source": [
        "![eucl.png](data:image/png;base64,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)"
      ],
      "metadata": {
        "id": "_xKCdIzHIZ6Q"
      }
    },
    {
      "cell_type": "markdown",
      "source": [
        "Συνεχίζω τώρα με το κατηγοριοποιητή. Αρχικά χωρίς PCA, έπειτα με PCA."
      ],
      "metadata": {
        "id": "5XRn5Lp25-7W"
      }
    },
    {
      "cell_type": "code",
      "source": [
        "knn_classifier_1 = train_knn_classifier(x_train_filtered, y_train_filtered, n_neighbors=1, metric='euclidean')\n",
        "\n",
        "accuracy = test_knn_classifier(knn_classifier_1, x_test_filtered, y_test_filtered)\n",
        "\n",
        "print(f\"For the 1-NN classifier with Euclidean distance metric without PCA the accuracy is: {accuracy:.4f}\\n\")\n",
        "\n",
        "\n",
        "knn_classifier_1_pca = train_knn_classifier(x_train_pca, y_train_filtered, n_neighbors=1, metric='euclidean')\n",
        "\n",
        "accuracy = test_knn_classifier(knn_classifier_1_pca, x_test_pca, y_test_filtered)\n",
        "\n",
        "print(f\"For the 1-NN classifier with Euclidean distance metric with PCA the accuracy is: {accuracy:.4f}\")"
      ],
      "metadata": {
        "colab": {
          "base_uri": "https://localhost:8080/"
        },
        "id": "3BrmfmaNDGLB",
        "outputId": "54422d1d-115a-4e92-c38b-d7911161b8d7"
      },
      "execution_count": 20,
      "outputs": [
        {
          "output_type": "stream",
          "name": "stdout",
          "text": [
            "Training time: 0.0512s\n",
            "\n",
            "Testing time: 11.0947s\n",
            "\n",
            "For the 1-NN classifier with Euclidean distance metric without PCA the accuracy is: 0.7455\n",
            "\n",
            "Training time: 0.0036s\n",
            "\n",
            "Testing time: 0.9129s\n",
            "\n",
            "For the 1-NN classifier with Euclidean distance metric with PCA the accuracy is: 0.7510\n"
          ]
        }
      ]
    },
    {
      "cell_type": "markdown",
      "source": [
        "Πετυχαίνω **0.7455** ακρίβεια χωρίς PCA, ενώ με PCA **0.7510** και μάλιστα σε αρκετά μικρότερο χρόνο. Τώρα θα δοκιμάσω αν αλλάζει κάτι ελέγχοντας τρεις γείτονες."
      ],
      "metadata": {
        "id": "9V-nYlwwuk-L"
      }
    },
    {
      "cell_type": "markdown",
      "source": [
        "* **3-NN Model**"
      ],
      "metadata": {
        "id": "PV6sqXrh5idL"
      }
    },
    {
      "cell_type": "code",
      "source": [
        "knn_classifier_3 = train_knn_classifier(x_train_filtered, y_train_filtered, n_neighbors=3, metric='euclidean')\n",
        "\n",
        "accuracy = test_knn_classifier(knn_classifier_3, x_test_filtered, y_test_filtered)\n",
        "\n",
        "print(f\"For the 3-NN classifier with Euclidean distance metric without PCA the accuracy is: {accuracy:.4f}\\n\")\n",
        "\n",
        "knn_classifier_3_pca = train_knn_classifier(x_train_pca, y_train_filtered, n_neighbors=3, metric='euclidean')\n",
        "\n",
        "accuracy = test_knn_classifier(knn_classifier_3_pca, x_test_pca, y_test_filtered)\n",
        "\n",
        "print(f\"For the 3-NN classifier with Euclidean distance metric with PCA the accuracy is: {accuracy:.4f}\")"
      ],
      "metadata": {
        "colab": {
          "base_uri": "https://localhost:8080/"
        },
        "id": "ASffMUykPyxt",
        "outputId": "f142feea-6357-49e9-cf98-6b6c734e891c"
      },
      "execution_count": 21,
      "outputs": [
        {
          "output_type": "stream",
          "name": "stdout",
          "text": [
            "Training time: 0.0233s\n",
            "\n",
            "Testing time: 4.6833s\n",
            "\n",
            "For the 3-NN classifier with Euclidean distance metric without PCA the accuracy is: 0.7395\n",
            "\n",
            "Training time: 0.0016s\n",
            "\n",
            "Testing time: 0.2625s\n",
            "\n",
            "For the 3-NN classifier with Euclidean distance metric with PCA the accuracy is: 0.7540\n"
          ]
        }
      ]
    },
    {
      "cell_type": "markdown",
      "source": [
        "Παρατηρώ πως χρειάζεται λιγότερο χρόνο και η ακρίβεια με PCA είναι υψηλότερη από τις προηγούμενες με τιμή **0.7540**."
      ],
      "metadata": {
        "id": "3Gr-tv4svibr"
      }
    },
    {
      "cell_type": "markdown",
      "source": [
        "# Nearest Centroid Models"
      ],
      "metadata": {
        "id": "zmssaH71wSye"
      }
    },
    {
      "cell_type": "markdown",
      "source": [
        "Ο Nearest Centroid Classifier (NCC) είναι ένα μοντέλο ταξινόμησης που αποδίδει σε παρατηρήσεις την ετικέτα της κατηγορίας δειγμάτων εκπαίδευσης των οποίων ο μέσος όρος (κεντροειδές/centroid) είναι πλησιέστερος στην παρατήρηση."
      ],
      "metadata": {
        "id": "Nn0ChSTtsOsS"
      }
    },
    {
      "cell_type": "markdown",
      "source": [
        "Μιλώντας με μαθηματικούς όρους, δεδομένου του συνόλου $\\left \\{ \\left ( \\vec{x_{1}}, \\vec{y_{1}} \\right ),..., \\left ( \\vec{x_{n}}, \\vec{y_{n}} \\right ) \\right \\}$, με τα $y_{i}\\in \\mathbf{Y}$ να είναι οι ετικέτες των κλάσεων, υπολογίζει τους centroids ανά κλάση ως $\\vec{\\mu _{l}}=\\frac{1}{\\left | C_{l} \\right |}\\sum _{i\\in C_{l}}\\vec{x_{i}}$, όπου $C_{l}$ είναι το σύνολο των δειγμάτων που ανήκουν στην κλάση $l\\in \\mathbf{Y}$."
      ],
      "metadata": {
        "id": "xgCkOdnrs1Yp"
      }
    },
    {
      "cell_type": "markdown",
      "source": [
        "Στην φάση της πρόβλεψης η κλάση που αποδίδεται σε μία παρατήρηση $\\vec{x}$ είναι το αποτελέσμα του $\\hat{y}=\\arg \\min _{l\\in \\mathbf{Y}}\\left \\| \\vec{\\mu _{l}} - \\vec{x} \\right \\|$."
      ],
      "metadata": {
        "id": "Uaid7vs8xAkr"
      }
    },
    {
      "cell_type": "markdown",
      "source": [
        "Όμοια με πριν, θα ορίσω πρώτα τις συναρτήσεις εκπαίδευσης και δοκιμής για καλύτερη ευελιξία."
      ],
      "metadata": {
        "id": "aObADu4GFfT9"
      }
    },
    {
      "cell_type": "code",
      "source": [
        "from sklearn.neighbors import NearestCentroid\n",
        "import time"
      ],
      "metadata": {
        "id": "l8ey_AH3FyK-"
      },
      "execution_count": 22,
      "outputs": []
    },
    {
      "cell_type": "code",
      "source": [
        "def train_nearest_centroid_classifier(x_train, y_train, metric):\n",
        "    ncc_classifier = NearestCentroid(metric=metric)\n",
        "\n",
        "    start_time = time.time()\n",
        "    ncc_classifier.fit(x_train, y_train)\n",
        "    end_time = time.time()\n",
        "\n",
        "    training_time = end_time - start_time\n",
        "    print(f\"Training time: {training_time:.4f}s\\n\")\n",
        "\n",
        "    return ncc_classifier"
      ],
      "metadata": {
        "id": "DnVvFxbPFtLG"
      },
      "execution_count": 23,
      "outputs": []
    },
    {
      "cell_type": "code",
      "source": [
        "def test_nearest_centroid_classifier(ncc_classifier, x_test, y_test):\n",
        "    start_time = time.time()\n",
        "    score = ncc_classifier.score(x_test, y_test)\n",
        "    end_time = time.time()\n",
        "\n",
        "    testing_time = end_time - start_time\n",
        "    print(f\"Testing time: {testing_time:.4f}s\\n\")\n",
        "\n",
        "    return score"
      ],
      "metadata": {
        "id": "bAMzYbbIF0Wy"
      },
      "execution_count": 24,
      "outputs": []
    },
    {
      "cell_type": "markdown",
      "source": [
        "* **Ευκλείδια απόσταση**"
      ],
      "metadata": {
        "id": "zegfFppT5w2o"
      }
    },
    {
      "cell_type": "markdown",
      "source": [
        "Τώρα θα τεστάρω τον κατηγοριοποιητή `NearestCentroid`, αρχικά με μετρική την Ευκλείδια απόσταση. Πάλι θα δοκιμάσω αν βοηθάει η εφαρμογή του PCA."
      ],
      "metadata": {
        "id": "cXEDTQ6nwVuL"
      }
    },
    {
      "cell_type": "code",
      "source": [
        "ncc_classifier_euclidean = train_nearest_centroid_classifier(x_train_filtered, y_train_filtered, metric='euclidean')\n",
        "\n",
        "accuracy = test_nearest_centroid_classifier(ncc_classifier_euclidean, x_test_filtered, y_test_filtered)\n",
        "\n",
        "print(f\"For the Nearest Centroid classifier with Euclidean distance metric without PCA the accuracy is: {accuracy:.4f}\\n\")\n",
        "\n",
        "ncc_classifier_euclidean_pca = train_nearest_centroid_classifier(x_train_pca, y_train_filtered, metric='euclidean')\n",
        "\n",
        "accuracy = test_nearest_centroid_classifier(ncc_classifier_euclidean_pca, x_test_pca, y_test_filtered)\n",
        "\n",
        "print(f\"For the Nearest Centroid classifier with Euclidean distance metric with PCA the accuracy is: {accuracy:.4f}\")"
      ],
      "metadata": {
        "colab": {
          "base_uri": "https://localhost:8080/"
        },
        "id": "kATIt3eVyri6",
        "outputId": "1594b6ed-ffcd-4c4b-8436-1d56fa6eb89f"
      },
      "execution_count": 25,
      "outputs": [
        {
          "output_type": "stream",
          "name": "stdout",
          "text": [
            "Training time: 0.2283s\n",
            "\n",
            "Testing time: 0.1532s\n",
            "\n",
            "For the Nearest Centroid classifier with Euclidean distance metric without PCA the accuracy is: 0.6585\n",
            "\n",
            "Training time: 0.0043s\n",
            "\n",
            "Testing time: 0.0053s\n",
            "\n",
            "For the Nearest Centroid classifier with Euclidean distance metric with PCA the accuracy is: 0.6580\n"
          ]
        }
      ]
    },
    {
      "cell_type": "markdown",
      "source": [
        "Παρατηρώ πως είναι πολύ γρήγορο, αλλά με χειρότερη ακρίβεια και στις δύο περιπτώσεις (**0.6585** και **0.6580**) σε σχέση με τα k-NN. Θα δοκιμάσω να αλλάξω την μετρική στην απόσταση Μανχάταν."
      ],
      "metadata": {
        "id": "TSGy4Azq0cpY"
      }
    },
    {
      "cell_type": "markdown",
      "source": [
        "* **Απόσταση Μανχάταν**"
      ],
      "metadata": {
        "id": "LlGBJHfh52Zg"
      }
    },
    {
      "cell_type": "markdown",
      "source": [
        "Η απόσταση Manhattan διαφέρει από την Ευκλείδια όταν υπολογίζουμε την διαφορά  μεταξύ δύο σημείων χρησιμοποιώντας την απόλυτη τιμή της διαφοράς. Με άλλα λόγια, η απόσταση μεταξύ του σημείου x και του y ισούται με το άθροισμα των απόλυτων διαφορών του Y με το X σε κάθε διάσταση."
      ],
      "metadata": {
        "id": "t9SapK4bKd6y"
      }
    },
    {
      "cell_type": "markdown",
      "source": [
        "![ααα.png](data:image/png;base64,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)"
      ],
      "metadata": {
        "id": "_paGSLsBK1Tp"
      }
    },
    {
      "cell_type": "code",
      "source": [
        "ncc_classifier_manhattan = train_nearest_centroid_classifier(x_train_filtered, y_train_filtered, metric='manhattan')\n",
        "\n",
        "accuracy = test_nearest_centroid_classifier(ncc_classifier_manhattan, x_test_filtered, y_test_filtered)\n",
        "\n",
        "print(f\"For the Nearest Centroid classifier with Manhattan distance metric without PCA the accuracy is: {accuracy:.4f}\\n\")\n",
        "\n",
        "ncc_classifier_manhattan_pca = train_nearest_centroid_classifier(x_train_pca, y_train_filtered, metric='manhattan')\n",
        "\n",
        "accuracy = test_nearest_centroid_classifier(ncc_classifier_manhattan_pca, x_test_pca, y_test_filtered)\n",
        "\n",
        "print(f\"For the Nearest Centroid classifier with Manhattan distance metric without PCA the accuracy is: {accuracy:.4f}\")"
      ],
      "metadata": {
        "colab": {
          "base_uri": "https://localhost:8080/"
        },
        "id": "F2UJGVoWzHiM",
        "outputId": "3f120b2a-6d49-4a4a-bbe8-b78844f84bac"
      },
      "execution_count": 26,
      "outputs": [
        {
          "output_type": "stream",
          "name": "stdout",
          "text": [
            "Training time: 1.2447s\n",
            "\n",
            "Testing time: 0.0470s\n",
            "\n",
            "For the Nearest Centroid classifier with Manhattan distance metric without PCA the accuracy is: 0.6590\n",
            "\n",
            "Training time: 0.0174s\n",
            "\n",
            "Testing time: 0.0037s\n",
            "\n",
            "For the Nearest Centroid classifier with Manhattan distance metric without PCA the accuracy is: 0.6775\n"
          ]
        }
      ]
    },
    {
      "cell_type": "markdown",
      "source": [
        "Τώρα είναι πιο αργό και ελάχιστα πιο ακριβές (**0.6590** και **0.6775**) από πριν."
      ],
      "metadata": {
        "id": "CrlGCyAW0s3y"
      }
    },
    {
      "cell_type": "markdown",
      "source": [
        "# SVM from sklearn"
      ],
      "metadata": {
        "id": "FXF3miisbkH3"
      }
    },
    {
      "cell_type": "code",
      "source": [
        "import numpy as np\n",
        "from sklearn import datasets\n",
        "from sklearn.model_selection import train_test_split\n",
        "from sklearn.svm import SVC, LinearSVC\n",
        "from sklearn.metrics import accuracy_score, classification_report\n",
        "import time"
      ],
      "metadata": {
        "id": "Gz9ekmRQcKaV"
      },
      "execution_count": 33,
      "outputs": []
    },
    {
      "cell_type": "markdown",
      "source": [
        "* **Linear**:"
      ],
      "metadata": {
        "id": "YT1HAr0Vburd"
      }
    },
    {
      "cell_type": "code",
      "source": [
        "start_time = time.time()\n",
        "svm = SVC(kernel='linear')\n",
        "svm.fit(x_train_pca, y_train_filtered)\n",
        "training_time = time.time() - start_time\n",
        "\n",
        "y_train_pred = svm.predict(x_train_pca)\n",
        "train_accuracy = accuracy_score(y_train_filtered, y_train_pred)\n",
        "\n",
        "y_test_pred = svm.predict(x_test_pca)\n",
        "test_accuracy = accuracy_score(y_test_filtered, y_test_pred)\n",
        "\n",
        "print(f\"Training Time: {training_time:.2f} seconds\")\n",
        "print(f\"Training Accuracy: {train_accuracy:.2%}\")\n",
        "print(f\"Test Accuracy: {test_accuracy:.2%}\")\n",
        "print(\"\\nClassification Report:\")\n",
        "print(classification_report(y_test_filtered, y_test_pred))"
      ],
      "metadata": {
        "colab": {
          "base_uri": "https://localhost:8080/"
        },
        "id": "7qyx2-IncGKc",
        "outputId": "3ca5f0ea-cf53-4ab4-a8e1-d11797f118a6"
      },
      "execution_count": 28,
      "outputs": [
        {
          "output_type": "stream",
          "name": "stdout",
          "text": [
            "Training Time: 49.16 seconds\n",
            "Training Accuracy: 71.85%\n",
            "Test Accuracy: 72.55%\n",
            "\n",
            "Classification Report:\n",
            "              precision    recall  f1-score   support\n",
            "\n",
            "           0       0.74      0.70      0.72      1000\n",
            "           8       0.72      0.75      0.73      1000\n",
            "\n",
            "    accuracy                           0.73      2000\n",
            "   macro avg       0.73      0.73      0.73      2000\n",
            "weighted avg       0.73      0.73      0.73      2000\n",
            "\n"
          ]
        }
      ]
    },
    {
      "cell_type": "code",
      "source": [
        "start_time = time.time()\n",
        "svm = LinearSVC()\n",
        "svm.fit(x_train_pca, y_train_filtered)\n",
        "training_time = time.time() - start_time\n",
        "\n",
        "y_train_pred = svm.predict(x_train_pca)\n",
        "train_accuracy = accuracy_score(y_train_filtered, y_train_pred)\n",
        "\n",
        "y_test_pred = svm.predict(x_test_pca)\n",
        "test_accuracy = accuracy_score(y_test_filtered, y_test_pred)\n",
        "\n",
        "print(f\"Training Time: {training_time:.2f} seconds\")\n",
        "print(f\"Training Accuracy: {train_accuracy:.2%}\")\n",
        "print(f\"Test Accuracy: {test_accuracy:.2%}\")\n",
        "print(\"\\nClassification Report:\")\n",
        "print(classification_report(y_test_filtered, y_test_pred))"
      ],
      "metadata": {
        "colab": {
          "base_uri": "https://localhost:8080/"
        },
        "id": "6MGKace4eYNR",
        "outputId": "2fcd7fc4-0290-412a-9b46-4f95b965c2fc"
      },
      "execution_count": 34,
      "outputs": [
        {
          "output_type": "stream",
          "name": "stdout",
          "text": [
            "Training Time: 6.70 seconds\n",
            "Training Accuracy: 71.43%\n",
            "Test Accuracy: 71.65%\n",
            "\n",
            "Classification Report:\n",
            "              precision    recall  f1-score   support\n",
            "\n",
            "           0       0.72      0.71      0.71      1000\n",
            "           8       0.71      0.72      0.72      1000\n",
            "\n",
            "    accuracy                           0.72      2000\n",
            "   macro avg       0.72      0.72      0.72      2000\n",
            "weighted avg       0.72      0.72      0.72      2000\n",
            "\n"
          ]
        },
        {
          "output_type": "stream",
          "name": "stderr",
          "text": [
            "/usr/local/lib/python3.10/dist-packages/sklearn/svm/_base.py:1244: ConvergenceWarning: Liblinear failed to converge, increase the number of iterations.\n",
            "  warnings.warn(\n"
          ]
        }
      ]
    },
    {
      "cell_type": "markdown",
      "source": [
        "* **Polynomial**:"
      ],
      "metadata": {
        "id": "63bYwVt9dEHu"
      }
    },
    {
      "cell_type": "code",
      "source": [
        "start_time = time.time()\n",
        "svm = SVC(kernel='poly')\n",
        "svm.fit(x_train_pca, y_train_filtered)\n",
        "training_time = time.time() - start_time\n",
        "\n",
        "y_train_pred = svm.predict(x_train_pca)\n",
        "train_accuracy = accuracy_score(y_train_filtered, y_train_pred)\n",
        "\n",
        "y_test_pred = svm.predict(x_test_pca)\n",
        "test_accuracy = accuracy_score(y_test_filtered, y_test_pred)\n",
        "\n",
        "print(f\"Training Time: {training_time:.2f} seconds\")\n",
        "print(f\"Training Accuracy: {train_accuracy:.2%}\")\n",
        "print(f\"Test Accuracy: {test_accuracy:.2%}\")\n",
        "print(\"\\nClassification Report:\")\n",
        "print(classification_report(y_test_filtered, y_test_pred))"
      ],
      "metadata": {
        "colab": {
          "base_uri": "https://localhost:8080/"
        },
        "id": "NoVh8Ss3dF1F",
        "outputId": "d9bc2f2d-c1de-4d4d-b2c3-2d0156cafd5e"
      },
      "execution_count": 29,
      "outputs": [
        {
          "output_type": "stream",
          "name": "stdout",
          "text": [
            "Training Time: 10.41 seconds\n",
            "Training Accuracy: 84.63%\n",
            "Test Accuracy: 77.70%\n",
            "\n",
            "Classification Report:\n",
            "              precision    recall  f1-score   support\n",
            "\n",
            "           0       0.83      0.70      0.76      1000\n",
            "           8       0.74      0.86      0.79      1000\n",
            "\n",
            "    accuracy                           0.78      2000\n",
            "   macro avg       0.78      0.78      0.78      2000\n",
            "weighted avg       0.78      0.78      0.78      2000\n",
            "\n"
          ]
        }
      ]
    },
    {
      "cell_type": "markdown",
      "source": [
        "* **Radial Basis Function** (RBF):"
      ],
      "metadata": {
        "id": "9F64wNCwdYie"
      }
    },
    {
      "cell_type": "code",
      "source": [
        "start_time = time.time()\n",
        "svm = SVC(kernel='rbf')\n",
        "svm.fit(x_train_pca, y_train_filtered)\n",
        "training_time = time.time() - start_time\n",
        "\n",
        "y_train_pred = svm.predict(x_train_pca)\n",
        "train_accuracy = accuracy_score(y_train_filtered, y_train_pred)\n",
        "\n",
        "y_test_pred = svm.predict(x_test_pca)\n",
        "test_accuracy = accuracy_score(y_test_filtered, y_test_pred)\n",
        "\n",
        "print(f\"Training Time: {training_time:.2f} seconds\")\n",
        "print(f\"Training Accuracy: {train_accuracy:.2%}\")\n",
        "print(f\"Test Accuracy: {test_accuracy:.2%}\")\n",
        "print(\"\\nClassification Report:\")\n",
        "print(classification_report(y_test_filtered, y_test_pred))"
      ],
      "metadata": {
        "colab": {
          "base_uri": "https://localhost:8080/"
        },
        "id": "ETWBiWG9dc4V",
        "outputId": "bd6dfa09-e2b8-4e64-f3bb-584d436c2c54"
      },
      "execution_count": 30,
      "outputs": [
        {
          "output_type": "stream",
          "name": "stdout",
          "text": [
            "Training Time: 10.18 seconds\n",
            "Training Accuracy: 87.92%\n",
            "Test Accuracy: 82.00%\n",
            "\n",
            "Classification Report:\n",
            "              precision    recall  f1-score   support\n",
            "\n",
            "           0       0.83      0.80      0.82      1000\n",
            "           8       0.81      0.84      0.82      1000\n",
            "\n",
            "    accuracy                           0.82      2000\n",
            "   macro avg       0.82      0.82      0.82      2000\n",
            "weighted avg       0.82      0.82      0.82      2000\n",
            "\n"
          ]
        }
      ]
    },
    {
      "cell_type": "markdown",
      "source": [
        "* **Sigmoid**:"
      ],
      "metadata": {
        "id": "wBja2FcidbNy"
      }
    },
    {
      "cell_type": "code",
      "source": [
        "start_time = time.time()\n",
        "svm = SVC(kernel='sigmoid')\n",
        "svm.fit(x_train_pca, y_train_filtered)\n",
        "training_time = time.time() - start_time\n",
        "\n",
        "y_train_pred = svm.predict(x_train_pca)\n",
        "train_accuracy = accuracy_score(y_train_filtered, y_train_pred)\n",
        "\n",
        "y_test_pred = svm.predict(x_test_pca)\n",
        "test_accuracy = accuracy_score(y_test_filtered, y_test_pred)\n",
        "\n",
        "print(f\"Training Time: {training_time:.2f} seconds\")\n",
        "print(f\"Training Accuracy: {train_accuracy:.2%}\")\n",
        "print(f\"Test Accuracy: {test_accuracy:.2%}\")\n",
        "print(\"\\nClassification Report:\")\n",
        "print(classification_report(y_test_filtered, y_test_pred))"
      ],
      "metadata": {
        "colab": {
          "base_uri": "https://localhost:8080/"
        },
        "id": "8tETeUPRdhAf",
        "outputId": "08290e28-ea08-49b1-e080-20a7af650197"
      },
      "execution_count": 31,
      "outputs": [
        {
          "output_type": "stream",
          "name": "stdout",
          "text": [
            "Training Time: 7.39 seconds\n",
            "Training Accuracy: 56.06%\n",
            "Test Accuracy: 55.40%\n",
            "\n",
            "Classification Report:\n",
            "              precision    recall  f1-score   support\n",
            "\n",
            "           0       0.56      0.54      0.55      1000\n",
            "           8       0.55      0.56      0.56      1000\n",
            "\n",
            "    accuracy                           0.55      2000\n",
            "   macro avg       0.55      0.55      0.55      2000\n",
            "weighted avg       0.55      0.55      0.55      2000\n",
            "\n"
          ]
        }
      ]
    },
    {
      "cell_type": "markdown",
      "source": [
        "# Kernel Functions"
      ],
      "metadata": {
        "id": "FRkdE6BcDCKc"
      }
    },
    {
      "cell_type": "markdown",
      "source": [
        "The kernel function can be any of the following:"
      ],
      "metadata": {
        "id": "oLlWNm4iDJ2l"
      }
    },
    {
      "cell_type": "markdown",
      "source": [
        "* **Linear**:\n",
        "\n",
        "$k(x, y) = x\\cdot y^T$\n",
        "\n",
        "επίσης γνωστός ως πυρήνας dot product (εσωτερικού γινομένου)."
      ],
      "metadata": {
        "id": "xFuHM8FIFuzL"
      }
    },
    {
      "cell_type": "code",
      "source": [
        "def linear_kernel(x1, x2):\n",
        "    return torch.matmul(x1, x2.t())"
      ],
      "metadata": {
        "id": "uXNz75O9nDgX"
      },
      "execution_count": null,
      "outputs": []
    },
    {
      "cell_type": "markdown",
      "source": [
        "* **Polynomial**:\n",
        "\n",
        "$K(x,y)=(x\\cdot y^T +r)^d$\n",
        "\n",
        "όπου το r είναι ο συντελεστής και d ο βαθμός του πολυωνυμικού πυρήνα.\n",
        "\n"
      ],
      "metadata": {
        "id": "qQzMFMFUDLon"
      }
    },
    {
      "cell_type": "code",
      "source": [
        "def polynomial_kernel(x, y, d, r):\n",
        "    return (torch.matmul(x, y.t()) + r)**d"
      ],
      "metadata": {
        "id": "kZzG2XZOLUKf"
      },
      "execution_count": null,
      "outputs": []
    },
    {
      "cell_type": "markdown",
      "source": [
        "* **Radial Basis Function** (RBF):\n",
        "\n",
        "$K(x, y) = \\exp \\left( - \\frac{||x-y||^2}{2σ^2} \\right) = \\exp \\left( -{γ||x-y||^2}\\right)$\n",
        "\n",
        "όπου το σ προκύπτει από το cross-validation και $\\gamma = \\frac{1}{2\\sigma ^{2}}$."
      ],
      "metadata": {
        "id": "x2ct605tGHSE"
      }
    },
    {
      "cell_type": "code",
      "source": [
        "def rbf_kernel(x, y, gamma):\n",
        "    return torch.exp(-gamma * torch.norm(x - y)**2)"
      ],
      "metadata": {
        "id": "IqgTfJZYnE6T"
      },
      "execution_count": null,
      "outputs": []
    },
    {
      "cell_type": "markdown",
      "source": [
        "* **Sigmoid**:\n",
        "\n",
        "$K(x, y) = \\tanh(cx \\cdot y^T + h)$\n",
        "\n",
        "όπου τα c, h προκύπτουν από το cross-validation.\n"
      ],
      "metadata": {
        "id": "Ksc3wH69HHKn"
      }
    },
    {
      "cell_type": "code",
      "source": [
        "def sigmoid_kernel(x, y, c, h):\n",
        "    return torch.tanh(c * torch.matmul(x, y.t()) + h)"
      ],
      "metadata": {
        "id": "r6JmOV-LNF3D"
      },
      "execution_count": null,
      "outputs": []
    },
    {
      "cell_type": "markdown",
      "source": [
        "# SVM wit QP"
      ],
      "metadata": {
        "id": "vYAAmkRDm50Q"
      }
    },
    {
      "cell_type": "markdown",
      "source": [],
      "metadata": {
        "id": "keTaWIs2m829"
      }
    },
    {
      "cell_type": "code",
      "source": [
        "pip install cvxpy"
      ],
      "metadata": {
        "id": "8IjEYR5npyzs"
      },
      "execution_count": null,
      "outputs": []
    },
    {
      "cell_type": "code",
      "source": [
        "import torch\n",
        "import torch.nn.functional as F\n",
        "import cvxpy as cp"
      ],
      "metadata": {
        "id": "fnw6Qp0inA9-"
      },
      "execution_count": null,
      "outputs": []
    },
    {
      "cell_type": "code",
      "source": [
        "import torch\n",
        "import torch.optim as optim\n",
        "import time\n",
        "\n",
        "class SVM(object):\n",
        "\n",
        "    def __init__(self, kernel, C=None, gamma=None, disp=True):\n",
        "        self.kernel = kernel\n",
        "        self.C = C\n",
        "        self.gamma = gamma\n",
        "        self.disp = disp\n",
        "        if self.C is not None:\n",
        "            self.C = float(self.C)\n",
        "\n",
        "    def fit(self, x_train_filtered, y_train_filtered):\n",
        "        n_samples, n_features = x_train_filtered.shape\n",
        "\n",
        "        if self.disp is True:\n",
        "            print('Number of samples:', n_samples)\n",
        "            print('Number of features:', n_features)\n",
        "\n",
        "        # Convert data to PyTorch tensors\n",
        "        x_train_filtered = torch.tensor(x_train_filtered, dtype=torch.float32)\n",
        "        y_train_filtered = torch.tensor(y_train_filtered, dtype=torch.float32)\n",
        "\n",
        "        # Calculate Gram matrix\n",
        "        start = time.time()\n",
        "        K = torch.zeros((n_samples, n_samples))\n",
        "        for i in range(n_samples):\n",
        "            for j in range(n_samples):\n",
        "                if self.kernel is linear_kernel:\n",
        "                    K[i, j] = self.kernel(x_train_filtered[i], x_train_filtered[j])\n",
        "                else:\n",
        "                    K[i, j] = self.kernel(x_train_filtered[i], x_train_filtered[j], self.gamma)\n",
        "        end = time.time()\n",
        "        if self.disp is True:\n",
        "            print(\"Gram matrix elapsed time: {}s\\n\".format(end - start))\n",
        "\n",
        "        # Formulate the matrices of the QP problem\n",
        "        P = torch.outer(y_train_filtered, y_train_filtered) * K\n",
        "        q = torch.ones(n_samples) * -1.0\n",
        "        A = y_train_filtered.view(1, -1).double()\n",
        "        b = torch.tensor([0.0], dtype=torch.double)\n",
        "\n",
        "        if self.C is None:\n",
        "            G = torch.diag(torch.ones(n_samples) * -1)\n",
        "            h = torch.zeros(n_samples)\n",
        "        else:\n",
        "            G_1 = -1 * torch.eye(n_samples)\n",
        "            G_2 = torch.eye(n_samples)\n",
        "            G = torch.cat((G_1, G_2), dim=0)\n",
        "            h_1 = torch.zeros(n_samples)\n",
        "            h_2 = torch.ones(n_samples) * self.C\n",
        "            h = torch.cat((h_1, h_2))\n",
        "\n",
        "        # Solve QP problem\n",
        "        start = time.time()\n",
        "        solution = self.solve_qp(P, q, G, h, A, b)\n",
        "        end = time.time()\n",
        "\n",
        "        if self.disp is True:\n",
        "            print(\"QP solver elapsed time: {}s\\n\".format(end - start))\n",
        "\n",
        "        # Lagrange multipliers\n",
        "        a = solution.ravel()\n",
        "\n",
        "        # Find Support Vectors\n",
        "        sv = a > 1e-3\n",
        "        self.a = a[sv]\n",
        "        self.sv = x_train_filtered[sv]\n",
        "        self.sv_y = y_train_filtered[sv]\n",
        "        ind = torch.arange(len(a))[sv]  # just a trick to get the indexes which are also stored in sv\n",
        "\n",
        "        # Bias (calculated for each sv and then we take the mean for numerical stability reasons)\n",
        "        self.b = 0\n",
        "        for n in range(len(self.a)):\n",
        "            self.b += self.sv_y[n]\n",
        "            self.b -= torch.sum(self.a * self.sv_y * K[ind[n], sv])\n",
        "        self.b /= len(self.a)\n",
        "\n",
        "    def predict(self, x_test_filtered):\n",
        "        start = time.time()\n",
        "        y_pred = torch.zeros(len(x_test_filtered))\n",
        "        for i in range(len(x_test_filtered)):\n",
        "            for a, sv_y, sv in zip(self.a, self.sv_y, self.sv):\n",
        "                if self.kernel is linear_kernel:\n",
        "                    y_pred[i] += a * sv_y * self.kernel(x_test_filtered[i], sv)\n",
        "                else:\n",
        "                    y_pred[i] += a * sv_y * self.kernel(x_test_filtered[i], sv, self.gamma)\n",
        "        y_pred += self.b\n",
        "        end = time.time()\n",
        "        if self.disp is True:\n",
        "            print(\"Testing elapsed time: {}s\\n\".format(end - start))\n",
        "        return torch.sign(y_pred).int()\n",
        "\n",
        "\n",
        "    def solve_qp(self, P, q, G, h, A, b):\n",
        "        # Convert PyTorch tensors to NumPy arrays and cast to double precision\n",
        "        P, G, A = map(lambda x: x.numpy().astype(np.double), [P, G, A])\n",
        "\n",
        "        # Convert q, h, and b to one-dimensional NumPy arrays\n",
        "        q, h, b = q.numpy().ravel().astype(np.double), h.numpy().ravel().astype(np.double), b.numpy().ravel().astype(np.double)\n",
        "\n",
        "        # Ensure 1D arrays have a shape of (n,) instead of (n, 1)\n",
        "        q, h, b = q.squeeze(), h.squeeze(), b.squeeze()\n",
        "\n",
        "        # Solve QP problem\n",
        "        P = np.ascontiguousarray(P)  # Ensure contiguous memory layout\n",
        "        G, A = np.ascontiguousarray(G), np.ascontiguousarray(A)  # Ensure contiguous memory layout\n",
        "        solution, _, _, _, _ = solve_qp(P, q, G.T, h, A.T, b)\n",
        "\n",
        "        # Convert the solution back to a PyTorch tensor\n",
        "        solution = torch.tensor(solution, dtype=torch.float32)\n",
        "\n",
        "        return solution"
      ],
      "metadata": {
        "id": "X6t3oG4foHb_"
      },
      "execution_count": null,
      "outputs": []
    },
    {
      "cell_type": "code",
      "source": [
        "pip install quadprog"
      ],
      "metadata": {
        "colab": {
          "base_uri": "https://localhost:8080/"
        },
        "id": "_49TdugWf0j4",
        "outputId": "a4ff8929-0f40-454d-cded-2814e615e01b"
      },
      "execution_count": null,
      "outputs": [
        {
          "output_type": "stream",
          "name": "stdout",
          "text": [
            "Requirement already satisfied: quadprog in /usr/local/lib/python3.10/dist-packages (0.1.11)\n",
            "Requirement already satisfied: numpy in /usr/local/lib/python3.10/dist-packages (from quadprog) (1.23.5)\n"
          ]
        }
      ]
    },
    {
      "cell_type": "code",
      "source": [
        "import torch\n",
        "from sklearn.metrics import accuracy_score, classification_report\n",
        "from sklearn.model_selection import train_test_split\n",
        "from quadprog import solve_qp\n",
        "# Assume x_train_pca, y_train, x_test_pca, y_test are PyTorch tensors\n",
        "\n",
        "# The training subset consists of 2000 samples\n",
        "rand_indx = torch.randint(0, len(x_train_pca), (10000,))\n",
        "x_train_mini = x_train_pca[rand_indx, :]\n",
        "y_train_mini = y_train_filtered[rand_indx]\n",
        "\n",
        "# Train the model\n",
        "svm = SVM(kernel=linear_kernel, C=1, gamma=None, disp=True)\n",
        "svm.fit(x_train_mini, y_train_mini)\n",
        "\n",
        "# Evaluate on test set\n",
        "y_pred = svm.predict(x_test_pca)\n",
        "\n",
        "# Convert y_test and y_pred to numpy arrays for sklearn metrics\n",
        "y_test_np = y_test_filtered.numpy()\n",
        "y_pred_np = y_pred.numpy()\n",
        "\n",
        "print('Test set accuracy: ', accuracy_score(y_test_np, y_pred_np))\n",
        "print(classification_report(y_test_np, y_pred_np))"
      ],
      "metadata": {
        "colab": {
          "base_uri": "https://localhost:8080/",
          "height": 513
        },
        "id": "1bDxlnb3pesF",
        "outputId": "bb6d7a8e-c240-414a-a513-4bec58c2c013"
      },
      "execution_count": null,
      "outputs": [
        {
          "output_type": "stream",
          "name": "stdout",
          "text": [
            "Number of samples: 10000\n",
            "Number of features: 76\n",
            "Gram matrix elapsed time: 1987.0710225105286s\n",
            "\n"
          ]
        },
        {
          "output_type": "error",
          "ename": "TypeError",
          "evalue": "ignored",
          "traceback": [
            "\u001b[0;31m---------------------------------------------------------------------------\u001b[0m",
            "\u001b[0;31mTypeError\u001b[0m                                 Traceback (most recent call last)",
            "\u001b[0;32m<ipython-input-20-8fc72d3a1d64>\u001b[0m in \u001b[0;36m<cell line: 14>\u001b[0;34m()\u001b[0m\n\u001b[1;32m     12\u001b[0m \u001b[0;31m# Train the model\u001b[0m\u001b[0;34m\u001b[0m\u001b[0;34m\u001b[0m\u001b[0m\n\u001b[1;32m     13\u001b[0m \u001b[0msvm\u001b[0m \u001b[0;34m=\u001b[0m \u001b[0mSVM\u001b[0m\u001b[0;34m(\u001b[0m\u001b[0mkernel\u001b[0m\u001b[0;34m=\u001b[0m\u001b[0mlinear_kernel\u001b[0m\u001b[0;34m,\u001b[0m \u001b[0mC\u001b[0m\u001b[0;34m=\u001b[0m\u001b[0;36m1\u001b[0m\u001b[0;34m,\u001b[0m \u001b[0mgamma\u001b[0m\u001b[0;34m=\u001b[0m\u001b[0;32mNone\u001b[0m\u001b[0;34m,\u001b[0m \u001b[0mdisp\u001b[0m\u001b[0;34m=\u001b[0m\u001b[0;32mTrue\u001b[0m\u001b[0;34m)\u001b[0m\u001b[0;34m\u001b[0m\u001b[0;34m\u001b[0m\u001b[0m\n\u001b[0;32m---> 14\u001b[0;31m \u001b[0msvm\u001b[0m\u001b[0;34m.\u001b[0m\u001b[0mfit\u001b[0m\u001b[0;34m(\u001b[0m\u001b[0mx_train_mini\u001b[0m\u001b[0;34m,\u001b[0m \u001b[0my_train_mini\u001b[0m\u001b[0;34m)\u001b[0m\u001b[0;34m\u001b[0m\u001b[0;34m\u001b[0m\u001b[0m\n\u001b[0m\u001b[1;32m     15\u001b[0m \u001b[0;34m\u001b[0m\u001b[0m\n\u001b[1;32m     16\u001b[0m \u001b[0;31m# Evaluate on test set\u001b[0m\u001b[0;34m\u001b[0m\u001b[0;34m\u001b[0m\u001b[0m\n",
            "\u001b[0;32m<ipython-input-19-5691f2c4ad4a>\u001b[0m in \u001b[0;36mfit\u001b[0;34m(self, x_train_filtered, y_train_filtered)\u001b[0m\n\u001b[1;32m     56\u001b[0m         \u001b[0;31m# Solve QP problem\u001b[0m\u001b[0;34m\u001b[0m\u001b[0;34m\u001b[0m\u001b[0m\n\u001b[1;32m     57\u001b[0m         \u001b[0mstart\u001b[0m \u001b[0;34m=\u001b[0m \u001b[0mtime\u001b[0m\u001b[0;34m.\u001b[0m\u001b[0mtime\u001b[0m\u001b[0;34m(\u001b[0m\u001b[0;34m)\u001b[0m\u001b[0;34m\u001b[0m\u001b[0;34m\u001b[0m\u001b[0m\n\u001b[0;32m---> 58\u001b[0;31m         \u001b[0msolution\u001b[0m \u001b[0;34m=\u001b[0m \u001b[0mself\u001b[0m\u001b[0;34m.\u001b[0m\u001b[0msolve_qp\u001b[0m\u001b[0;34m(\u001b[0m\u001b[0mP\u001b[0m\u001b[0;34m,\u001b[0m \u001b[0mq\u001b[0m\u001b[0;34m,\u001b[0m \u001b[0mG\u001b[0m\u001b[0;34m,\u001b[0m \u001b[0mh\u001b[0m\u001b[0;34m,\u001b[0m \u001b[0mA\u001b[0m\u001b[0;34m,\u001b[0m \u001b[0mb\u001b[0m\u001b[0;34m)\u001b[0m\u001b[0;34m\u001b[0m\u001b[0;34m\u001b[0m\u001b[0m\n\u001b[0m\u001b[1;32m     59\u001b[0m         \u001b[0mend\u001b[0m \u001b[0;34m=\u001b[0m \u001b[0mtime\u001b[0m\u001b[0;34m.\u001b[0m\u001b[0mtime\u001b[0m\u001b[0;34m(\u001b[0m\u001b[0;34m)\u001b[0m\u001b[0;34m\u001b[0m\u001b[0;34m\u001b[0m\u001b[0m\n\u001b[1;32m     60\u001b[0m \u001b[0;34m\u001b[0m\u001b[0m\n",
            "\u001b[0;32m<ipython-input-19-5691f2c4ad4a>\u001b[0m in \u001b[0;36msolve_qp\u001b[0;34m(self, P, q, G, h, A, b)\u001b[0m\n\u001b[1;32m    108\u001b[0m         \u001b[0mP\u001b[0m \u001b[0;34m=\u001b[0m \u001b[0mnp\u001b[0m\u001b[0;34m.\u001b[0m\u001b[0mascontiguousarray\u001b[0m\u001b[0;34m(\u001b[0m\u001b[0mP\u001b[0m\u001b[0;34m)\u001b[0m  \u001b[0;31m# Ensure contiguous memory layout\u001b[0m\u001b[0;34m\u001b[0m\u001b[0;34m\u001b[0m\u001b[0m\n\u001b[1;32m    109\u001b[0m         \u001b[0mG\u001b[0m\u001b[0;34m,\u001b[0m \u001b[0mA\u001b[0m \u001b[0;34m=\u001b[0m \u001b[0mnp\u001b[0m\u001b[0;34m.\u001b[0m\u001b[0mascontiguousarray\u001b[0m\u001b[0;34m(\u001b[0m\u001b[0mG\u001b[0m\u001b[0;34m)\u001b[0m\u001b[0;34m,\u001b[0m \u001b[0mnp\u001b[0m\u001b[0;34m.\u001b[0m\u001b[0mascontiguousarray\u001b[0m\u001b[0;34m(\u001b[0m\u001b[0mA\u001b[0m\u001b[0;34m)\u001b[0m  \u001b[0;31m# Ensure contiguous memory layout\u001b[0m\u001b[0;34m\u001b[0m\u001b[0;34m\u001b[0m\u001b[0m\n\u001b[0;32m--> 110\u001b[0;31m         \u001b[0msolution\u001b[0m\u001b[0;34m,\u001b[0m \u001b[0m_\u001b[0m\u001b[0;34m,\u001b[0m \u001b[0m_\u001b[0m\u001b[0;34m,\u001b[0m \u001b[0m_\u001b[0m\u001b[0;34m,\u001b[0m \u001b[0m_\u001b[0m \u001b[0;34m=\u001b[0m \u001b[0msolve_qp\u001b[0m\u001b[0;34m(\u001b[0m\u001b[0mP\u001b[0m\u001b[0;34m,\u001b[0m \u001b[0mq\u001b[0m\u001b[0;34m,\u001b[0m \u001b[0mG\u001b[0m\u001b[0;34m.\u001b[0m\u001b[0mT\u001b[0m\u001b[0;34m,\u001b[0m \u001b[0mh\u001b[0m\u001b[0;34m,\u001b[0m \u001b[0mA\u001b[0m\u001b[0;34m.\u001b[0m\u001b[0mT\u001b[0m\u001b[0;34m,\u001b[0m \u001b[0mb\u001b[0m\u001b[0;34m)\u001b[0m\u001b[0;34m\u001b[0m\u001b[0;34m\u001b[0m\u001b[0m\n\u001b[0m\u001b[1;32m    111\u001b[0m \u001b[0;34m\u001b[0m\u001b[0m\n\u001b[1;32m    112\u001b[0m         \u001b[0;31m# Convert the solution back to a PyTorch tensor\u001b[0m\u001b[0;34m\u001b[0m\u001b[0;34m\u001b[0m\u001b[0m\n",
            "\u001b[0;32mquadprog/quadprog.pyx\u001b[0m in \u001b[0;36mquadprog.solve_qp\u001b[0;34m()\u001b[0m\n",
            "\u001b[0;31mTypeError\u001b[0m: only size-1 arrays can be converted to Python scalars"
          ]
        }
      ]
    }
  ]
}
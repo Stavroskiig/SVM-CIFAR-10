{
  "nbformat": 4,
  "nbformat_minor": 0,
  "metadata": {
    "colab": {
      "provenance": [],
      "authorship_tag": "ABX9TyP2GmgmYBvBd1hjFJk/QKpY",
      "include_colab_link": true
    },
    "kernelspec": {
      "name": "python3",
      "display_name": "Python 3"
    },
    "language_info": {
      "name": "python"
    }
  },
  "cells": [
    {
      "cell_type": "markdown",
      "metadata": {
        "id": "view-in-github",
        "colab_type": "text"
      },
      "source": [
        "<a href=\"https://colab.research.google.com/github/Stavroskiig/SVM-CIFAR-10/blob/main/NN_2nd_assignment.ipynb\" target=\"_parent\"><img src=\"https://colab.research.google.com/assets/colab-badge.svg\" alt=\"Open In Colab\"/></a>"
      ]
    },
    {
      "cell_type": "markdown",
      "source": [
        "# **Νευρωνικά Δίκτυα - Βαθιά Μάθηση**\n",
        "\n",
        "2η Υποχρεωτική Εργασία\n",
        "\n",
        "\n",
        "---\n",
        "* **Στόχος**:\n",
        "Ζητούμενο της εργασίας είναι να γραφεί πρόγραμμα σε οποιαδήποτε γλώσσα προγραμματισμού το οποίο να υλοποιεί ένα **Support Vector Machine**. Το SVM αυτό θα εκπαιδευτεί για να επιλύει το πρόβλημα του διαχωρισμού 2 κλάσεων που υπάρχουν στο **CIFAR-10**.\n",
        "\n",
        "* **Γλώσσα**:\n",
        "Επιλέγω να εργαστώ σε Python χρησιμοποιώντας την βιβλιοθήκη `PyTorch` για την ανάπτυξη των νευρωνικών μοντέλων, η οποία είναι αρκετά δημοφιλής στην ερευνητική και εκπαιδευτική κοινότητα.\n",
        "\n",
        "* **Βάση Δεδομένων**:\n",
        "Για την εκπαίδευση και την κατηγοριοποίηση αποφάσισα να χρησιμοποιήσω την βάση δεδομένων CIFAR-10 που υπάρχει στην παρακάτω διεύθυνση:\n",
        "https://www.cs.toronto.edu/~kriz/cifar.html\n",
        "\n",
        "\n",
        "---\n",
        "\n"
      ],
      "metadata": {
        "id": "Sd09eB0vjsa9"
      }
    },
    {
      "cell_type": "markdown",
      "source": [
        "# Προεπεξεργασία του CIFAR-10"
      ],
      "metadata": {
        "id": "wnOfvaMQg5Hq"
      }
    },
    {
      "cell_type": "markdown",
      "source": [
        "Παίρνω το dataset από την keras. Βεβαίως απαιτείται πρώτα να εισάγω την TensorFLow.\n",
        "\n"
      ],
      "metadata": {
        "id": "x0Go6PtujJl1"
      }
    },
    {
      "cell_type": "code",
      "source": [
        "import tensorflow as tf\n",
        "\n",
        "(x_train, y_train), (x_test, y_test) = tf.keras.datasets.cifar10.load_data()"
      ],
      "metadata": {
        "id": "wwZF9lz7BjsG"
      },
      "execution_count": 1,
      "outputs": []
    },
    {
      "cell_type": "markdown",
      "source": [
        "Αυτό μου επιστρέφει:\n",
        "* **x_train**: uint8 NumPy πίνακας δεδομένων εικόνας με shapes (50000, 32, 32, 3), που περιέχουν τα δεδομένα εκπαίδευσης (train). Οι τιμές pixel κυμαίνονται από 0 έως 255.\n",
        "\n",
        "* **y_train**: uint8 NumPy πίνακας ετικετών (labels) (ακέραιοι του εύρους 0-9) με shape (50000, 1) για τα δεδομένα εκπαίδευσης (train).\n",
        "\n",
        "* **x_test**: uint8 NumPy πίνακας δεδομένων εικόνας με shapes (10000, 32, 32, 3), που περιέχουν τα δεδομένα δοκιμής (test). Οι τιμές pixel κυμαίνονται από 0 έως 255.\n",
        "\n",
        "* **y_test**: uint8 NumPy πίνακας ετικετών (ακέραιοι στο εύρος 0-9) με shapes (10000, 1) για τα δεδομένα δοκιμής (test)."
      ],
      "metadata": {
        "id": "yfW7BCGPENGY"
      }
    },
    {
      "cell_type": "markdown",
      "source": [
        "Θα δω τα shapes των συνόλων. Τα `x` σύνολα περιλαμβάνουν τις εικόνες, ενώ τα `y` τις ετικέτες."
      ],
      "metadata": {
        "id": "3eDfiUfnISsB"
      }
    },
    {
      "cell_type": "code",
      "source": [
        "print(\"x_train:\", x_train.shape, \"y_train:\", y_train.shape)\n",
        "print(\"x_test:\", x_test.shape, \"y_test:\", y_test.shape)"
      ],
      "metadata": {
        "colab": {
          "base_uri": "https://localhost:8080/"
        },
        "id": "xrulDExPIXxj",
        "outputId": "044fd2f8-8fb3-426c-efba-64ffd85fc713"
      },
      "execution_count": 2,
      "outputs": [
        {
          "output_type": "stream",
          "name": "stdout",
          "text": [
            "x_train: (50000, 32, 32, 3) y_train: (50000, 1)\n",
            "x_test: (10000, 32, 32, 3) y_test: (10000, 1)\n"
          ]
        }
      ]
    },
    {
      "cell_type": "markdown",
      "source": [
        "* Τα `x_train` και `x_test` έχουν το shape: (πλήθος εικόνων, ύψος, πλάτος, πλήθος καναλιών).\n",
        "* Τα `y_train` και `y_test` είναι 2D πίνακες με shape: (πλήθος εικόνων, 1)"
      ],
      "metadata": {
        "id": "aLFjfnh6JxaS"
      }
    },
    {
      "cell_type": "markdown",
      "source": [
        "Τώρα θέλω να διατηρήσω μόνο δύο κλάσεις από το σύνολο δεδομένων CIFAR-10. Για αυτό θα φιλτράρω τα δεδομένα με βάση τις κλάσεις που θέλετε να κρατήσω. Επιλέγω τα αεροπλάνα (index 0) και τα πλοία (index 8)."
      ],
      "metadata": {
        "id": "6i_GKyWr17MS"
      }
    },
    {
      "cell_type": "code",
      "source": [
        "desired_classes = [0, 8]"
      ],
      "metadata": {
        "id": "CHgLLPwU2VRR"
      },
      "execution_count": 3,
      "outputs": []
    },
    {
      "cell_type": "markdown",
      "source": [
        "Ορίζω την συνάρτηση φιλτραρίσματος, η οποία παίρνει ως παραμέτρους ένα σύνολο x και τις κλάσεις που έχω επιλέξει. Το tf.equal επιστρέφει έναν boolean τένσορα με την τιμή True όπου η κλάση του παραδείγματος ταιριάζει με τις επιλεγμένες κλάσεις, ενώ False στις υπόλοιπες."
      ],
      "metadata": {
        "id": "JRbO7oL52qBS"
      }
    },
    {
      "cell_type": "code",
      "source": [
        "import numpy as np\n",
        "\n",
        "def filter_dataset(x, y, desired_classes):\n",
        "    y = y.flatten()\n",
        "    train_mask = np.isin(y, desired_classes)\n",
        "    x_filtered = x[train_mask]\n",
        "    y_filtered = y[train_mask]\n",
        "    return x_filtered, y_filtered"
      ],
      "metadata": {
        "id": "-1IQxWUJ2oPn"
      },
      "execution_count": 6,
      "outputs": []
    },
    {
      "cell_type": "code",
      "source": [
        "x_train_filtered, y_train_filtered = filter_dataset(x_train, y_train, desired_classes)\n",
        "x_test_filtered, y_test_filtered = filter_dataset(x_test, y_test, desired_classes)"
      ],
      "metadata": {
        "id": "jsYWk2DW4RQz"
      },
      "execution_count": 9,
      "outputs": []
    },
    {
      "cell_type": "code",
      "source": [
        "print(x_train.shape, x_train_filtered.shape)\n",
        "print(y_train.shape, y_train_filtered.shape)\n",
        "\n",
        "print(x_test.shape, x_test_filtered.shape)\n",
        "print(y_test.shape, y_test_filtered.shape)"
      ],
      "metadata": {
        "colab": {
          "base_uri": "https://localhost:8080/"
        },
        "id": "UL9OEcc352l5",
        "outputId": "37b06338-0f50-4cbb-8cc5-76a4a2519264"
      },
      "execution_count": 10,
      "outputs": [
        {
          "output_type": "stream",
          "name": "stdout",
          "text": [
            "(50000, 32, 32, 3) (10000, 32, 32, 3)\n",
            "(50000, 1) (10000,)\n",
            "(10000, 32, 32, 3) (2000, 32, 32, 3)\n",
            "(10000, 1) (2000,)\n"
          ]
        }
      ]
    },
    {
      "cell_type": "markdown",
      "source": [
        "Μετατρέπω τα σύνολα σε `float32`."
      ],
      "metadata": {
        "id": "uwvASeg252z7"
      }
    },
    {
      "cell_type": "code",
      "source": [
        "x_train, x_test = np.array(x_train, dtype=np.float32), np.array(x_test, dtype=np.float32)"
      ],
      "metadata": {
        "id": "If0_wETU5zce"
      },
      "execution_count": 11,
      "outputs": []
    },
    {
      "cell_type": "markdown",
      "source": [
        "Θα κάνω flatten τις εικόνες από 3D σε διανύσματα 1D."
      ],
      "metadata": {
        "id": "ljzF5X5zH4q7"
      }
    },
    {
      "cell_type": "code",
      "source": [
        "number_features = 3072\n",
        "\n",
        "x_train = x_train.reshape([-1, number_features])\n",
        "x_test = x_test.reshape([-1, number_features])\n",
        "\n",
        "print(\"x_train:\", x_train.shape, \"x_test:\", x_test.shape)"
      ],
      "metadata": {
        "colab": {
          "base_uri": "https://localhost:8080/"
        },
        "id": "YViRmC4BHzdR",
        "outputId": "04b2f200-12cb-42ec-e4c0-f950ed11f29a"
      },
      "execution_count": 12,
      "outputs": [
        {
          "output_type": "stream",
          "name": "stdout",
          "text": [
            "x_train: (50000, 3072) x_test: (10000, 3072)\n"
          ]
        }
      ]
    },
    {
      "cell_type": "markdown",
      "source": [
        "Θα τις κανονικοποιήσω στο εύρος [0,1]."
      ],
      "metadata": {
        "id": "ZtL4eBCpICUx"
      }
    },
    {
      "cell_type": "code",
      "source": [
        "x_train = x_train/255.0\n",
        "x_test = x_test/255.0"
      ],
      "metadata": {
        "id": "FNkRTDbRIItK"
      },
      "execution_count": 13,
      "outputs": []
    },
    {
      "cell_type": "markdown",
      "source": [
        "Κρατώ τον αριθμό των κλάσεων και των υπερκλάσεων για το μέλλον."
      ],
      "metadata": {
        "id": "WfRSc-MpJJsT"
      }
    },
    {
      "cell_type": "code",
      "source": [
        "number_classes = 2\n",
        "number_features = 3072"
      ],
      "metadata": {
        "id": "dAM9Sy20JOuY"
      },
      "execution_count": 16,
      "outputs": []
    },
    {
      "cell_type": "code",
      "source": [
        "import time\n",
        "from sklearn.decomposition import PCA\n",
        "\n",
        "start = time.time()\n",
        "\n",
        "pca = PCA(n_components=0.9).fit(x_train)\n",
        "x_train_pca = pca.transform(x_train)\n",
        "x_test_pca = pca.transform(x_test)\n",
        "\n",
        "end = time.time()\n",
        "print(\"PCA elapsed time: {} seconds\\n\".format(end - start))\n",
        "print(\"Extracted {} features from the original {}.\".format(x_train_pca.shape[1], x_train.shape[1]))\n",
        "print(\"Cumulative explained variation for {} principal components: {:.2%}\".format(x_train_pca.shape[1], np.sum(pca.explained_variance_ratio_)))"
      ],
      "metadata": {
        "colab": {
          "base_uri": "https://localhost:8080/"
        },
        "id": "VsF0AyaGCPPn",
        "outputId": "6462176a-c739-42b8-9e0e-5b83848e088d"
      },
      "execution_count": 17,
      "outputs": [
        {
          "output_type": "stream",
          "name": "stdout",
          "text": [
            "PCA elapsed time: 87.42042469978333 seconds\n",
            "\n",
            "Extracted 99 features from the original 3072.\n",
            "Cumulative explained variation for 99 principal components: 90.03%\n"
          ]
        }
      ]
    },
    {
      "cell_type": "markdown",
      "source": [
        "Κρατώντας μόλις 99 features από τα 3072, δηλαδή το 3.22%, καταφέρνω να κρατήσω περισσότερο από το 90% της πληροφορίας."
      ],
      "metadata": {
        "id": "S3O4XsBBFNv_"
      }
    }
  ]
}